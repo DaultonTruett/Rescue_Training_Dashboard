{
 "cells": [
  {
   "cell_type": "code",
   "execution_count": null,
   "id": "ae9515a4",
   "metadata": {},
   "outputs": [],
   "source": [
    "#MongoDB CRUD Class Test Code\n",
    "#Developer: Daulton Truett\n",
    "\n",
    "# Custom Class\n",
    "from CRUD import CRUD;\n",
    "\n",
    "username = \"\";\n",
    "password = \"\";\n",
    "host = \"\"\n",
    "port = 0;\n",
    "db = \"\";\n",
    "collection = \"\"\n",
    "\n",
    "#Instantiate the CRUD class\n",
    "db = CRUD(username, password, host, port, db, collection);\n",
    "\n",
    "#Variables to populate a dict and pass to CRUD methods as arguments\n",
    "queryKey = 'breed';\n",
    "queryValue = 'test animal breed';\n",
    "\n",
    "updateKey = \"breed\";\n",
    "updateValue = \"German Shepherd: Updated\";\n",
    "\n",
    "#Create a new dict to hold the user values for future CRUD operations\n",
    "newEntry = {queryKey: queryValue};\n",
    "\n",
    "#Create a dict to hold values for updating documents\n",
    "updateEntry = {updateKey: updateValue};\n",
    "\n",
    "#Create a dict of 'None' type for testing\n",
    "noneEntry = None;\n",
    "\n",
    "#Test against a dict of 'None' type\n",
    "# -- UNCOMMENT code below to test adding a dict of 'None' type -- \n",
    "#db.create(noneEntry);\n",
    "\n",
    "#Pass the newEntry dict to create a new document\n",
    "db.create(newEntry);\n",
    "\n",
    "#Pass the newEntry dict to read the DB and return the new document\n",
    "newEntryResultList = db.read(newEntry);\n",
    "print(f\"Added document: {newEntryResultList}\")\n",
    "\n",
    "#Pass the updateEntry dict to update documents\n",
    "updatedDocuments = db.update(newEntry, updateEntry);\n",
    "print(f\"Updated: {updatedDocuments} document(s)\");\n",
    "\n",
    "#Pass the updateEntry dict to read the DB and return the updated document\n",
    "updatedResultList = db.read(updateEntry);\n",
    "print(f\"Updated document: {newEntryResultList}\\nto: \\t{updatedResultList}\")\n",
    "\n",
    "#Pass the updateEntry dict to delete the newly created, then updated, document\n",
    "documentsDeleted = db.delete(updateEntry);\n",
    "print(f\"Deleted: {documentsDeleted} document(s)\");\n",
    "\n",
    "#Pass the updateEntry dict to read the DB and verify the document DNE\n",
    "queryResultList = db.read(updateEntry);\n"
   ]
  },
  {
   "cell_type": "code",
   "execution_count": null,
   "id": "ec83d276",
   "metadata": {},
   "outputs": [],
   "source": []
  }
 ],
 "metadata": {
  "kernelspec": {
   "display_name": "Python 3 (ipykernel)",
   "language": "python",
   "name": "python3"
  },
  "language_info": {
   "codemirror_mode": {
    "name": "ipython",
    "version": 3
   },
   "file_extension": ".py",
   "mimetype": "text/x-python",
   "name": "python",
   "nbconvert_exporter": "python",
   "pygments_lexer": "ipython3",
   "version": "3.9.12"
  }
 },
 "nbformat": 4,
 "nbformat_minor": 5
}
